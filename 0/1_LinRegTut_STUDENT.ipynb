{
  "cells": [
    {
      "cell_type": "markdown",
      "metadata": {
        "pycharm": {}
      },
      "source": [
        "# Intro  \n",
        "Welcome to your first programming exercise of this course. We will investigate a diabetes-dataset and see if certain variables are associated with each other. In this tutorial, we want to test for true associations with linear regression.  \n",
        "\n",
        "Depending on the causal connections between two variables, $x$ and $y$, their true relationship may be linear or nonlinear. However, regardless of the true pattern of association, a linear model can always serve as a first approximation. In this case, the analysis is particularly simple,  \n",
        "$$y \u003d \\alpha + \\beta x + e$$ \n",
        "where $\\alpha$ is the y-intercept, $\\beta$ is the slope of the line (also known as the regression\n",
        "coefficient), and e is the residual error. Letting  \n",
        "$$\\hat y \u003d \\alpha + \\beta x$$\n",
        "be the value of $y$ predicted by the model, then the residual error is the deviation between the observed and predicted y value, i.e., $e \u003d  y - \\hat y$. When information on $x$ is used to predict $y$, $x$ is referred to as the predictor or independent variable and $y$ as the response or dependent variable.\n",
        "\n",
        "The objective of linear regression analysis is to estimate the model parameters, $\\alpha$ and $\\beta$, that give the “best fit” for the joint distribution of $x$ and $y$. The true parameters $\\alpha$ and $\\beta$ are only obtainable if the entire population is sampled. With an incomplete sample, $\\alpha$ and $\\beta$ are approximated by sample estimators, denoted as $a$ and $b$. In real-world applications, there is often only a weak linear relationship between two variables which makes it difficult to say anything more precise. In order to infer the parameters of our model, an objective definition of “best fit” is required. The mathematical method of least-squares linear regression provides one such best-fit solution.\n",
        "\n",
        "For this exercise you will need the pandas, matplotlib and numpy python packages.\n",
        "\n",
        "We provide template code, which you will have to complete. The parts you will have to change are marked with `#your_code`\n",
        "\n",
        "The ideas conveyed in this exercise, especially the connection between the covariance of two variables $Cov(x,y)$ and the regression coefficient $b$ are explained in more detail [here](http://nitro.biosci.arizona.edu/courses/EEB581-2006/handouts/bivdistrib.pdf)."
      ]
    },
    {
      "cell_type": "markdown",
      "metadata": {
        "pycharm": {}
      },
      "source": [
        "## The Diabetes Dataset\n",
        "\n",
        "In this exercise we will be working with the [Pima Indians Diabetes Database](https://www.kaggle.com/uciml/pima-indians-diabetes-databasec).\n",
        "\n",
        "The dataset consists of 8 medical predictor variables and one target variable, which were gathered in order to predict diabetes outcome in a female population of the native American Pima-tribe (USA). The dataset was part of a kaggle competition.\n",
        "\n",
        "The data is stored in a CSV-file. We use the pandas package to load the data. An introduction in to pandas can be found [here](https://pandas.pydata.org/pandas-docs/stable/getting_started/10min.html).\n"
      ]
    },
    {
      "cell_type": "code",
      "execution_count": 1,
      "metadata": {
        "pycharm": {
          "is_executing": false
        }
      },
      "outputs": [],
      "source": [
        "# for data analysis and manipulation\n",
        "import pandas as pd\n",
        "\n",
        "# for manipulation of graph and figures\n",
        "from matplotlib import pyplot as plt\n",
        "\n",
        "# access to square root function from mathematical library\n",
        "from math import sqrt"
      ]
    },
    {
      "cell_type": "code",
      "execution_count": 6,
      "metadata": {
        "pycharm": {
          "is_executing": false
        }
      },
      "outputs": [],
      "source": [
        "# this loads the data into a pandas DataFrame, \u0027./diabetes.csv\u0027 specifies the directory for the datafile\n",
        "df \u003d pd.read_csv(\u0027./diabetes.csv\u0027)"
      ]
    },
    {
      "cell_type": "code",
      "execution_count": 7,
      "metadata": {
        "pycharm": {},
        "scrolled": true
      },
      "outputs": [
        {
          "data": {
            "text/html": [
              "\u003cdiv\u003e\n",
              "\u003cstyle scoped\u003e\n",
              "    .dataframe tbody tr th:only-of-type {\n",
              "        vertical-align: middle;\n",
              "    }\n",
              "\n",
              "    .dataframe tbody tr th {\n",
              "        vertical-align: top;\n",
              "    }\n",
              "\n",
              "    .dataframe thead th {\n",
              "        text-align: right;\n",
              "    }\n",
              "\u003c/style\u003e\n",
              "\u003ctable border\u003d\"1\" class\u003d\"dataframe\"\u003e\n",
              "  \u003cthead\u003e\n",
              "    \u003ctr style\u003d\"text-align: right;\"\u003e\n",
              "      \u003cth\u003e\u003c/th\u003e\n",
              "      \u003cth\u003ePregnancies\u003c/th\u003e\n",
              "      \u003cth\u003eGlucose\u003c/th\u003e\n",
              "      \u003cth\u003eBloodPressure\u003c/th\u003e\n",
              "      \u003cth\u003eSkinThickness\u003c/th\u003e\n",
              "      \u003cth\u003eInsulin\u003c/th\u003e\n",
              "      \u003cth\u003eBMI\u003c/th\u003e\n",
              "      \u003cth\u003eDiabetesPedigreeFunction\u003c/th\u003e\n",
              "      \u003cth\u003eAge\u003c/th\u003e\n",
              "      \u003cth\u003eOutcome\u003c/th\u003e\n",
              "    \u003c/tr\u003e\n",
              "  \u003c/thead\u003e\n",
              "  \u003ctbody\u003e\n",
              "    \u003ctr\u003e\n",
              "      \u003cth\u003e0\u003c/th\u003e\n",
              "      \u003ctd\u003e6\u003c/td\u003e\n",
              "      \u003ctd\u003e148\u003c/td\u003e\n",
              "      \u003ctd\u003e72\u003c/td\u003e\n",
              "      \u003ctd\u003e35\u003c/td\u003e\n",
              "      \u003ctd\u003e0\u003c/td\u003e\n",
              "      \u003ctd\u003e33.6\u003c/td\u003e\n",
              "      \u003ctd\u003e0.627\u003c/td\u003e\n",
              "      \u003ctd\u003e50\u003c/td\u003e\n",
              "      \u003ctd\u003e1\u003c/td\u003e\n",
              "    \u003c/tr\u003e\n",
              "    \u003ctr\u003e\n",
              "      \u003cth\u003e1\u003c/th\u003e\n",
              "      \u003ctd\u003e1\u003c/td\u003e\n",
              "      \u003ctd\u003e85\u003c/td\u003e\n",
              "      \u003ctd\u003e66\u003c/td\u003e\n",
              "      \u003ctd\u003e29\u003c/td\u003e\n",
              "      \u003ctd\u003e0\u003c/td\u003e\n",
              "      \u003ctd\u003e26.6\u003c/td\u003e\n",
              "      \u003ctd\u003e0.351\u003c/td\u003e\n",
              "      \u003ctd\u003e31\u003c/td\u003e\n",
              "      \u003ctd\u003e0\u003c/td\u003e\n",
              "    \u003c/tr\u003e\n",
              "    \u003ctr\u003e\n",
              "      \u003cth\u003e2\u003c/th\u003e\n",
              "      \u003ctd\u003e8\u003c/td\u003e\n",
              "      \u003ctd\u003e183\u003c/td\u003e\n",
              "      \u003ctd\u003e64\u003c/td\u003e\n",
              "      \u003ctd\u003e0\u003c/td\u003e\n",
              "      \u003ctd\u003e0\u003c/td\u003e\n",
              "      \u003ctd\u003e23.3\u003c/td\u003e\n",
              "      \u003ctd\u003e0.672\u003c/td\u003e\n",
              "      \u003ctd\u003e32\u003c/td\u003e\n",
              "      \u003ctd\u003e1\u003c/td\u003e\n",
              "    \u003c/tr\u003e\n",
              "    \u003ctr\u003e\n",
              "      \u003cth\u003e3\u003c/th\u003e\n",
              "      \u003ctd\u003e1\u003c/td\u003e\n",
              "      \u003ctd\u003e89\u003c/td\u003e\n",
              "      \u003ctd\u003e66\u003c/td\u003e\n",
              "      \u003ctd\u003e23\u003c/td\u003e\n",
              "      \u003ctd\u003e94\u003c/td\u003e\n",
              "      \u003ctd\u003e28.1\u003c/td\u003e\n",
              "      \u003ctd\u003e0.167\u003c/td\u003e\n",
              "      \u003ctd\u003e21\u003c/td\u003e\n",
              "      \u003ctd\u003e0\u003c/td\u003e\n",
              "    \u003c/tr\u003e\n",
              "    \u003ctr\u003e\n",
              "      \u003cth\u003e4\u003c/th\u003e\n",
              "      \u003ctd\u003e0\u003c/td\u003e\n",
              "      \u003ctd\u003e137\u003c/td\u003e\n",
              "      \u003ctd\u003e40\u003c/td\u003e\n",
              "      \u003ctd\u003e35\u003c/td\u003e\n",
              "      \u003ctd\u003e168\u003c/td\u003e\n",
              "      \u003ctd\u003e43.1\u003c/td\u003e\n",
              "      \u003ctd\u003e2.288\u003c/td\u003e\n",
              "      \u003ctd\u003e33\u003c/td\u003e\n",
              "      \u003ctd\u003e1\u003c/td\u003e\n",
              "    \u003c/tr\u003e\n",
              "  \u003c/tbody\u003e\n",
              "\u003c/table\u003e\n",
              "\u003c/div\u003e"
            ],
            "text/plain": [
              "   Pregnancies  Glucose  BloodPressure  SkinThickness  Insulin   BMI  \\\n",
              "0            6      148             72             35        0  33.6   \n",
              "1            1       85             66             29        0  26.6   \n",
              "2            8      183             64              0        0  23.3   \n",
              "3            1       89             66             23       94  28.1   \n",
              "4            0      137             40             35      168  43.1   \n",
              "\n",
              "   DiabetesPedigreeFunction  Age  Outcome  \n",
              "0                     0.627   50        1  \n",
              "1                     0.351   31        0  \n",
              "2                     0.672   32        1  \n",
              "3                     0.167   21        0  \n",
              "4                     2.288   33        1  "
            ]
          },
          "execution_count": 7,
          "metadata": {},
          "output_type": "execute_result"
        }
      ],
      "source": [
        "# this command shows the first rows of the table\n",
        "df.head()"
      ]
    },
    {
      "cell_type": "code",
      "execution_count": 8,
      "metadata": {
        "pycharm": {}
      },
      "outputs": [],
      "source": [
        "# in a jupyter-notebook, you can display the documentation for any function/method/object by propending a question mark:\n",
        "?plt.scatter"
      ]
    },
    {
      "cell_type": "code",
      "execution_count": null,
      "metadata": {
        "pycharm": {}
      },
      "outputs": [],
      "source": [
        "# let\u0027s explore the dataset a little bit\n",
        "# for this exercise we are interested in the relationship between insulin and BMI.\n",
        "# For this we can produce a scatter-plot of BMI vs Insulin.\n",
        "# Try to explore other variables as well, using the plt.scatter function\n",
        "\n",
        "plt.scatter(df.BMI, df.Insulin)\n",
        "plt.xlabel(\u0027BMI\u0027)\n",
        "plt.ylabel(\u0027Insulin\u0027)\n",
        "plt.suptitle(\u0027BMI vs Insulin\u0027)\n",
        "plt.show()"
      ]
    },
    {
      "cell_type": "code",
      "execution_count": null,
      "metadata": {
        "pycharm": {}
      },
      "outputs": [],
      "source": [
        "# In the plot above, we can see that there are many datapoints which do not have a measurement for Insulin (Insulin \u003d\u003d 0).\n",
        "# We decide that we want to exclude these values. \n",
        "\n",
        "# There are also missing values for BMI (BMI \u003d\u003d 0), which we exclude as well.\n",
        "\n",
        "df \u003d df[df.Insulin\u003e0]\n",
        "df \u003d df[df.BMI\u003e0]\n",
        "plt.scatter(df.BMI, df.Insulin)\n",
        "plt.xlabel(\u0027BMI\u0027)\n",
        "plt.ylabel(\u0027Insulin\u0027)\n",
        "plt.suptitle(\u0027BMI vs Insulin\u0027)\n",
        "plt.show()"
      ]
    },
    {
      "cell_type": "markdown",
      "metadata": {
        "pycharm": {}
      },
      "source": [
        "# Step 1: Implementation using lists\n",
        "**Task 1.1:** Write functions to caluclate the mean and variance. Call those functions to calculate the mean and variance for BMI and Insulin.\n",
        "\n",
        "$$Mean, \\mu \u003d \\frac{\\sum x_i}{n} $$\n",
        "\n",
        "$$Variance, \\sigma ^{2} \u003d \\frac{\\sum (x - \\mu)^{2}}{n}$$"
      ]
    },
    {
      "cell_type": "code",
      "execution_count": null,
      "metadata": {
        "pycharm": {}
      },
      "outputs": [],
      "source": "# Calculate the mean value of a python list of numbers\n# def is used to define our own functions\n\ndef mean(values):\n    m \u003d sum(values) / len(values)\n    return m\n    \n# Calculate the variance of a list of numbers\ndef variance(values, mean):\n    v \u003d sum([(x -  mean) ** 2 for x in values])/ len(values)\n    return v"
    },
    {
      "cell_type": "code",
      "execution_count": 19,
      "metadata": {
        "pycharm": {
          "is_executing": false
        }
      },
      "outputs": [],
      "source": [
        "# we store our variables in lists\n",
        "x \u003d list(df.BMI)\n",
        "y \u003d list(df.Insulin)"
      ]
    },
    {
      "cell_type": "code",
      "execution_count": 42,
      "metadata": {
        "pycharm": {
          "is_executing": false
        }
      },
      "outputs": [
        {
          "name": "stdout",
          "text": [
            "x stats: mean\u003d33.073 variance\u003d49.210\ny stats: mean\u003d155.718 variance\u003d14096.406\n"
          ],
          "output_type": "stream"
        }
      ],
      "source": "# calculate mean and variance\n\nmean_x, mean_y \u003d mean(x),mean(y)# your_code\nvar_x, var_y \u003d variance(x, mean_x), variance(y, mean_y) # your_code\n\nprint(\u0027x stats: mean\u003d%.3f variance\u003d%.3f\u0027 % (mean_x, var_x))\nprint(\u0027y stats: mean\u003d%.3f variance\u003d%.3f\u0027 % (mean_y, var_y))"
    },
    {
      "cell_type": "markdown",
      "metadata": {
        "pycharm": {}
      },
      "source": [
        "**Expected output**:  \n",
        "x stats: mean \u003d 33.073 variance \u003d 49.210  \n",
        "y stats: mean \u003d 155.718 variance \u003d 14096.406"
      ]
    },
    {
      "cell_type": "markdown",
      "metadata": {
        "pycharm": {}
      },
      "source": [
        "Now we want to investigate if the BMI and Insulin are somehow associated. We do this by calculating the covariance:\n",
        "\n",
        "The covariance is a measure of association between x and y. It is positive if y increases with increasing x, negative if y decreases as x increases, and zero if there is no linear tendency for y to change with x. If x and y are independent, then σ(x,y) \u003d 0, \n",
        "\n",
        "$$Cov (x,y) \u003d \\frac{\\sum(x_{i}-\\bar{x})(y_{i}-\\bar{y})}{n} $$\n",
        "\n",
        "**Question 1.1:** Are two variables x, y always independent, if their covariance is 0? Write your anser in the field below by double-clicking."
      ]
    },
    {
      "cell_type": "raw",
      "metadata": {
        "pycharm": {}
      },
      "source": [
        "write your answer here"
      ]
    },
    {
      "cell_type": "code",
      "execution_count": null,
      "metadata": {
        "pycharm": {}
      },
      "outputs": [],
      "source": "# Calculate covariance between x and y\ndef covariance(x, mean_x, y, mean_y):\n    covar \u003d 0.0\n    for i in range(len(x)):\n        covar +\u003d (x[i] - mean_x)*(y[i] - mean_y) # your_code\n    return covar / float(len(x))\n\ncovar \u003d covariance(x, mean_x, y, mean_y)\nprint(\u0027Covariance: %.3f\u0027 % (covar))"
    },
    {
      "cell_type": "markdown",
      "metadata": {
        "pycharm": {}
      },
      "source": [
        "**Expected output**:  \n",
        "Covariance: 189.938"
      ]
    },
    {
      "cell_type": "markdown",
      "metadata": {
        "pycharm": {}
      },
      "source": [
        "Now we want to find coefficients for a line, that predicts our observations best.  \n",
        "\n",
        "To find the \u0027best fit\u0027 of coefficients for this predictor, we calculate the least-squares linear regression. The least-squares solution yields the values of $a$ and $b$ that minimize the mean squared residual. The formula is the following:\n",
        "$$a \u003d \\bar y − b * \\bar x $$\n",
        "$$b \u003d Cov(x, y) / Var(x)$$\n",
        "Thus, the least-squares estimators for the intercept and slope of a linear regression are simple functions of the observed means, variances, and covariances.   \n",
        " \n",
        "**Task 1.2:** Write a function that calculates the model parameters. Call this function to calculate the coefficients $a$ and $b$ for our linear model to predict the Insulin-level from a BMI observation."
      ]
    },
    {
      "cell_type": "code",
      "execution_count": 33,
      "metadata": {
        "pycharm": {
          "is_executing": false
        }
      },
      "outputs": [
        {
          "name": "stdout",
          "text": [
            "Coefficients: a\u003d28.067, b\u003d3.860\n"
          ],
          "output_type": "stream"
        }
      ],
      "source": "# Calculate coefficients a and b\ndef coefficients(x,y):\n    b \u003d covar / var_x # your_code\n    a \u003d mean_y - b * mean_x # your_code\n    return a, b\n\na, b \u003d coefficients(x,y)\nprint(\u0027Coefficients: a\u003d%.3f, b\u003d%.3f\u0027 % (a, b))"
    },
    {
      "cell_type": "markdown",
      "metadata": {
        "pycharm": {}
      },
      "source": [
        "**Expected output:**  \n",
        "Coefficients: a\u003d28.067, b\u003d3.860"
      ]
    },
    {
      "cell_type": "markdown",
      "metadata": {
        "pycharm": {}
      },
      "source": [
        "Now that we predicited the coefficients for our \u0027best fit\u0027 linear regression model, we need to test it by predicting Insulin-levels from observing BMIs. In other words, if we have a measurement of the BMI, how well can we predict the Insulin level with our model?\n",
        "\n",
        "To do this, we take our linear regression function, insert our estimated coefficients, and calculate y for each observation x. \n",
        "\n",
        "$$\\hat y \u003d a + b * x$$\n",
        "\n",
        "\n",
        "**Task 1.3:** Write a function that predicts y from x. Call this function with x and y.\n"
      ]
    },
    {
      "cell_type": "code",
      "execution_count": 44,
      "metadata": {
        "pycharm": {
          "is_executing": false
        }
      },
      "outputs": [],
      "source": "# Make predictions\ndef simple_linear_regression(x, y):\n    a, b \u003d coefficients(x, y)\n    predictions \u003d [a + b * element for element in x]\n    return predictions\n\npredictions \u003dsimple_linear_regression(x, y) # your_code"
    },
    {
      "cell_type": "markdown",
      "metadata": {
        "pycharm": {}
      },
      "source": [
        "To evaluate our predictions, we look at the difference between the Insulin level, that our model predicts and the true Insulin level and calculate the root mean squared error (rmse).\n",
        "\n",
        "$$ RMSE \u003d \\sqrt{\\frac{\\sum (\\hat{y_{i}}-y_{i})^2}{n}} $$\n",
        "\n",
        "**Task 1.4:** Write a function that calculates the root mean squared  error, between the true and predicted value. "
      ]
    },
    {
      "cell_type": "code",
      "execution_count": 46,
      "metadata": {
        "pycharm": {
          "is_executing": false
        }
      },
      "outputs": [
        {
          "name": "stdout",
          "text": [
            "RMSE: 115.600\n"
          ],
          "output_type": "stream"
        }
      ],
      "source": " \n# Calculate root mean squared error\ndef rmse_metric(actual, predicted):\n    sum_error \u003d 0.0\n    for i in range(len(actual)):\n        sum_error +\u003d (predicted[i] - actual[i]) ** 2\n    mean_error \u003d sum_error / len(actual) # your_code\n    \n    return sqrt(mean_error)\n\n\n# Evaluate regression algorithm on training dataset\ndef evaluate_algorithm(x, y, algorithm):\n    predicted \u003d algorithm(x, y)# your_code\n    rmse \u003d rmse_metric(y, predicted)# your_code\n    return rmse\n\nrmse \u003d evaluate_algorithm(x, y, simple_linear_regression)\nprint(\u0027RMSE: %.3f\u0027 % (rmse))"
    },
    {
      "cell_type": "markdown",
      "metadata": {
        "pycharm": {}
      },
      "source": [
        "**Expected output: **   \n",
        "RMSE: 115.600"
      ]
    },
    {
      "cell_type": "markdown",
      "metadata": {
        "pycharm": {}
      },
      "source": [
        "Let\u0027s plot our results with the pyplot package from matplotlib:  "
      ]
    },
    {
      "cell_type": "code",
      "execution_count": 47,
      "metadata": {
        "pycharm": {
          "is_executing": false
        }
      },
      "outputs": [
        {
          "data": {
            "text/plain": "[\u003cmatplotlib.lines.Line2D at 0x22c8a1c8e10\u003e]"
          },
          "metadata": {},
          "output_type": "execute_result",
          "execution_count": 47
        },
        {
          "data": {
            "text/plain": "\u003cFigure size 432x288 with 1 Axes\u003e",
            "image/png": "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\u003d\u003d\n"
          },
          "metadata": {
            "needs_background": "light"
          },
          "output_type": "display_data"
        }
      ],
      "source": [
        "plt.scatter(x, y, color\u003d\u0027black\u0027)\n",
        "plt.xlabel(\u0027BMI\u0027)\n",
        "plt.ylabel(\u0027Insulin\u0027)\n",
        "plt.suptitle(\u0027RMSE\u0027)\n",
        "plt.plot(x, predictions, color\u003d\u0027blue\u0027, linewidth\u003d3)\n"
      ]
    },
    {
      "cell_type": "markdown",
      "metadata": {
        "pycharm": {}
      },
      "source": [
        "# Discussion:  \n",
        "1) What can you say about the association between BMI and Insulin?  \n",
        "2) Is BMI a good predictor for Insulin?  \n",
        "3) What would be your next steps to improve the prediction for Insulin?  \n",
        "\n",
        "**Task 1.5:** Write your answers in the cell below"
      ]
    },
    {
      "cell_type": "raw",
      "metadata": {
        "pycharm": {}
      },
      "source": []
    },
    {
      "cell_type": "markdown",
      "metadata": {
        "pycharm": {}
      },
      "source": [
        "# Step 2: Implementation using numpy\n",
        "\n",
        "Working with lists required us to write a lot of code. Python can save you from all this work, if you are familiar with the numpy package.\n",
        "If you are not familiar with numpy yet. We recommend to browse through the documentation page at https://www.numpy.org and also work through the provided tutorial there.  "
      ]
    },
    {
      "cell_type": "code",
      "execution_count": null,
      "metadata": {
        "pycharm": {}
      },
      "outputs": [],
      "source": [
        "# First we need to import the numpy package\n",
        "import numpy as np\n",
        "\n",
        "# The \u0027as np\u0027 notion is optional, but it is helpful because we can use the np abbreviation \n",
        "# when we call functions from the numpy module. "
      ]
    },
    {
      "cell_type": "markdown",
      "metadata": {
        "pycharm": {}
      },
      "source": [
        "**Task 2.1:**  \n",
        "1) Define x and y. This time, we do not have to convert them into lists. They can keep it as arrays.  \n",
        "2) Calculate the mean and variance for x and y, using numpy functions. "
      ]
    },
    {
      "cell_type": "code",
      "execution_count": null,
      "metadata": {
        "pycharm": {}
      },
      "outputs": [],
      "source": [
        "# calculate mean and variance\n",
        "x \u003d # your_code\n",
        "y \u003d # your_code\n",
        "\n",
        "mean_x \u003d # your_code\n",
        "mean_y \u003d # your_code\n",
        "var_x \u003d # your_code\n",
        "var_y \u003d # your_code\n",
        "\n",
        "print(\u0027x stats: mean\u003d%.3f variance\u003d%.3f\u0027 % (mean_x, var_x))\n",
        "print(\u0027y stats: mean\u003d%.3f variance\u003d%.3f\u0027 % (mean_y, var_y))"
      ]
    },
    {
      "cell_type": "markdown",
      "metadata": {
        "pycharm": {}
      },
      "source": [
        "**Expected output:  **  \n",
        "x stats: mean\u003d33.073 variance\u003d49.210  \n",
        "y stats: mean\u003d155.718 variance\u003d14096.406"
      ]
    },
    {
      "cell_type": "markdown",
      "metadata": {
        "pycharm": {}
      },
      "source": [
        "**Task 2.2:** Now rewrite the covariance() function and call the numpy-covariance function within. The numpy-covariance function returns a covariance matrix (2x2) with 4 values. \n",
        "\n",
        "**Question 2.1:** Which values does the covariance matrix represent? Which ones are the actual covariance? What are the other values? Write your anser in the cell below."
      ]
    },
    {
      "cell_type": "raw",
      "metadata": {
        "pycharm": {}
      },
      "source": []
    },
    {
      "cell_type": "markdown",
      "metadata": {
        "pycharm": {}
      },
      "source": [
        "Now, calculate the covariance, using the numpy function cov(). The function returns a covariance matrix, and you need to index the covariance value within the matrix. \n",
        "So, for the covariance() function, index one covariance value and return it. "
      ]
    },
    {
      "cell_type": "code",
      "execution_count": null,
      "metadata": {
        "pycharm": {}
      },
      "outputs": [],
      "source": [
        "# calculate covariance\n",
        "def covariance(x,y):\n",
        "    covar \u003d # your_code\n",
        "    return covar\n",
        "\n",
        "covariance(x,y)"
      ]
    },
    {
      "cell_type": "markdown",
      "metadata": {
        "pycharm": {}
      },
      "source": [
        "** Expected output: **  \n",
        "190.42283065898116"
      ]
    },
    {
      "cell_type": "markdown",
      "metadata": {
        "pycharm": {}
      },
      "source": [
        "**Task 2.3:** Now, write a coefficients() function to calculate the coefficients b0 and b1 by using numpy functions. \n",
        "Return a list of b0 and b1. Call the function."
      ]
    },
    {
      "cell_type": "code",
      "execution_count": null,
      "metadata": {
        "pycharm": {}
      },
      "outputs": [],
      "source": [
        "# Calculate coefficients\n",
        "def coefficients(x,y):\n",
        "    x_mean, y_mean \u003d # your_code \n",
        "    b \u003d # your_code\n",
        "    a \u003d # your_code\n",
        "    return [a, b]\n",
        "\n",
        "# calculate coefficients\n",
        "a, b \u003d coefficients(x,y)\n",
        "print(\u0027Coefficients: a\u003d%.3f, b\u003d%.3f\u0027 % (a, b))"
      ]
    },
    {
      "cell_type": "markdown",
      "metadata": {
        "pycharm": {}
      },
      "source": [
        "** Expected Output: **  \n",
        "Coefficients: a\u003d27.741, b\u003d3.870"
      ]
    },
    {
      "cell_type": "markdown",
      "metadata": {
        "pycharm": {}
      },
      "source": [
        "Congratulations, you made it through the first tutorial of this course!  \n",
        "\n",
        "# Submitting your assignment\n",
        "\n",
        "Please rename your notebook and send it to machinelearning.dhc@gmail.com.  \n",
        "If you have a google account, you can also share your jupyter-file on Google Drive with this eMail address.\n",
        "\n",
        "Please rename the file to 1_LinRegTut_GROUP_lastname1_lastname2_lastname3.ipynb, and replace GROUP and \"lastnameX\" with your respective group and last names (+first name initial).\n",
        "\n",
        "e.g.:\n",
        "1_LinRegTut_LippertG_MontiR_FehrJ_DasP.ipynb\n",
        "\n",
        "As this is also the first time for us preparing this tutorial, you are welcome to give us feedback to help us improve this tutorial.  \n",
        "\n",
        "Thank you!  \n",
        "\n",
        "Jana \u0026 Remo"
      ]
    },
    {
      "cell_type": "code",
      "execution_count": null,
      "metadata": {
        "pycharm": {}
      },
      "outputs": [],
      "source": []
    }
  ],
  "metadata": {
    "kernelspec": {
      "display_name": "Python 3",
      "language": "python",
      "name": "python3"
    },
    "language_info": {
      "codemirror_mode": {
        "name": "ipython",
        "version": 3
      },
      "file_extension": ".py",
      "mimetype": "text/x-python",
      "name": "python",
      "nbconvert_exporter": "python",
      "pygments_lexer": "ipython3",
      "version": "3.7.1"
    }
  },
  "nbformat": 4,
  "nbformat_minor": 2
}